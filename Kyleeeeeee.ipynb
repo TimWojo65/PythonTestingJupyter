{
 "cells": [
  {
   "cell_type": "code",
   "execution_count": 8,
   "id": "82408124",
   "metadata": {},
   "outputs": [
    {
     "name": "stdout",
     "output_type": "stream",
     "text": [
      "Hello World!\n",
      "<class 'str'>\n",
      "<class 'str'>\n",
      "None\n"
     ]
    }
   ],
   "source": [
    "noquote=\"Hello World!\"\n",
    "print(noquote)\n",
    "beef=type (noquote)\n",
    "print (beef)\n",
    "beeftwo=print(beef)\n",
    "print (beeftwo)"
   ]
  },
  {
   "cell_type": "code",
   "execution_count": 6,
   "id": "adcdf81b",
   "metadata": {},
   "outputs": [
    {
     "name": "stdout",
     "output_type": "stream",
     "text": [
      "<class 'int'>\n"
     ]
    }
   ],
   "source": [
    "print (type(694520))"
   ]
  },
  {
   "cell_type": "code",
   "execution_count": 4,
   "id": "98ac4b8f",
   "metadata": {},
   "outputs": [
    {
     "name": "stdout",
     "output_type": "stream",
     "text": [
      "False\n"
     ]
    }
   ],
   "source": [
    "print (False)"
   ]
  },
  {
   "cell_type": "code",
   "execution_count": 5,
   "id": "b38d9801",
   "metadata": {},
   "outputs": [
    {
     "name": "stdout",
     "output_type": "stream",
     "text": [
      "['hello world!', 69, False]\n",
      "('hello world', 69, False)\n",
      "hello world\n",
      "69\n",
      "False\n",
      "['hello world!', 69, False, 5660]\n"
     ]
    },
    {
     "ename": "AttributeError",
     "evalue": "'tuple' object has no attribute 'append'",
     "output_type": "error",
     "traceback": [
      "\u001b[31m---------------------------------------------------------------------------\u001b[39m",
      "\u001b[31mAttributeError\u001b[39m                            Traceback (most recent call last)",
      "\u001b[36mCell\u001b[39m\u001b[36m \u001b[39m\u001b[32mIn[5]\u001b[39m\u001b[32m, line 11\u001b[39m\n\u001b[32m      9\u001b[39m lsit.append(\u001b[32m5660\u001b[39m)\n\u001b[32m     10\u001b[39m \u001b[38;5;28mprint\u001b[39m(lsit)\n\u001b[32m---> \u001b[39m\u001b[32m11\u001b[39m \u001b[43mtest\u001b[49m\u001b[43m.\u001b[49m\u001b[43mappend\u001b[49m(\u001b[32m34\u001b[39m)\n",
      "\u001b[31mAttributeError\u001b[39m: 'tuple' object has no attribute 'append'"
     ]
    }
   ],
   "source": [
    "lsit=[\"hello world!\", 69, False]\n",
    "print(lsit)\n",
    "test=\"hello world\", 69, False\n",
    "print(test)\n",
    "test2,test3,test4=\"hello world\", 69, False\n",
    "print(test2)\n",
    "print(test3)\n",
    "print(test4)\n",
    "lsit.append(5660)\n",
    "print(lsit)\n",
    "test.append(34)\n"
   ]
  },
  {
   "cell_type": "code",
   "execution_count": 6,
   "id": "8e1d909c",
   "metadata": {},
   "outputs": [
    {
     "name": "stdout",
     "output_type": "stream",
     "text": [
      "[45]\n"
     ]
    }
   ],
   "source": [
    "list1=[True, \"wall\"]\n",
    "#list1=[]\n",
    "if len(list1)>0: \n",
    "    list1.clear()\n",
    "    list1.append(45)\n",
    "else:\n",
    "    list1.append(5)\n",
    "print(list1)"
   ]
  },
  {
   "cell_type": "code",
   "execution_count": 7,
   "id": "5f399889",
   "metadata": {},
   "outputs": [
    {
     "name": "stdout",
     "output_type": "stream",
     "text": [
      "[45, 5]\n"
     ]
    }
   ],
   "source": [
    "list1=[90]\n",
    "if len(list1)>0: \n",
    "    list1.clear()\n",
    "    list1.append(45)\n",
    "\n",
    "list1.append(5)\n",
    "print(list1)"
   ]
  },
  {
   "cell_type": "code",
   "execution_count": 8,
   "id": "ea6eaa8f",
   "metadata": {},
   "outputs": [
    {
     "name": "stdout",
     "output_type": "stream",
     "text": [
      "hello world!\n",
      "69\n",
      "False\n"
     ]
    }
   ],
   "source": [
    "lsit=[\"hello world!\", 69, False]\n",
    "for i in lsit:\n",
    "    print(i)"
   ]
  },
  {
   "cell_type": "code",
   "execution_count": 30,
   "id": "d1194791",
   "metadata": {},
   "outputs": [
    {
     "name": "stdout",
     "output_type": "stream",
     "text": [
      "!dlrow olleh\n",
      "94\n",
      "ohnooooooo\n",
      "yippieee!!!\n",
      "2dlrow olleh\n"
     ]
    }
   ],
   "source": [
    "lsit=[\"hello world!\", 69, False, True, \"hello world2\"]\n",
    "for i in lsit:\n",
    "    if type(i)==str:\n",
    "        i=\"\".join(reversed(i))\n",
    "        print(i)\n",
    "    elif type(i)==int:\n",
    "       i=i+25\n",
    "       print(i) \n",
    "    elif type(i)==bool:\n",
    "        if i==True:\n",
    "            print(\"yippieee!!!\")\n",
    "        else:\n",
    "            print(\"ohnooooooo\") \n",
    "    else: \n",
    "        print(type(i))"
   ]
  }
 ],
 "metadata": {
  "kernelspec": {
   "display_name": "Python 3",
   "language": "python",
   "name": "python3"
  },
  "language_info": {
   "codemirror_mode": {
    "name": "ipython",
    "version": 3
   },
   "file_extension": ".py",
   "mimetype": "text/x-python",
   "name": "python",
   "nbconvert_exporter": "python",
   "pygments_lexer": "ipython3",
   "version": "3.11.9"
  }
 },
 "nbformat": 4,
 "nbformat_minor": 5
}
