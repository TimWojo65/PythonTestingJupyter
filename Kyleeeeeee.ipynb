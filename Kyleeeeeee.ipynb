{
 "cells": [
  {
   "cell_type": "code",
   "execution_count": 8,
   "id": "82408124",
   "metadata": {},
   "outputs": [
    {
     "name": "stdout",
     "output_type": "stream",
     "text": [
      "Hello World!\n",
      "<class 'str'>\n",
      "<class 'str'>\n",
      "None\n"
     ]
    }
   ],
   "source": [
    "noquote=\"Hello World!\"\n",
    "print(noquote)\n",
    "beef=type (noquote)\n",
    "print (beef)\n",
    "beeftwo=print(beef)\n",
    "print (beeftwo)"
   ]
  },
  {
   "cell_type": "code",
   "execution_count": 6,
   "id": "adcdf81b",
   "metadata": {},
   "outputs": [
    {
     "name": "stdout",
     "output_type": "stream",
     "text": [
      "<class 'int'>\n"
     ]
    }
   ],
   "source": [
    "print (type(694520))"
   ]
  },
  {
   "cell_type": "code",
   "execution_count": 4,
   "id": "98ac4b8f",
   "metadata": {},
   "outputs": [
    {
     "name": "stdout",
     "output_type": "stream",
     "text": [
      "False\n"
     ]
    }
   ],
   "source": [
    "print (False)"
   ]
  }
 ],
 "metadata": {
  "kernelspec": {
   "display_name": "Python 3",
   "language": "python",
   "name": "python3"
  },
  "language_info": {
   "codemirror_mode": {
    "name": "ipython",
    "version": 3
   },
   "file_extension": ".py",
   "mimetype": "text/x-python",
   "name": "python",
   "nbconvert_exporter": "python",
   "pygments_lexer": "ipython3",
   "version": "3.11.9"
  }
 },
 "nbformat": 4,
 "nbformat_minor": 5
}
